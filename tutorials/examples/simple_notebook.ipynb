{
 "cells": [
  {
   "cell_type": "code",
   "execution_count": null,
   "id": "14dea9ff",
   "metadata": {},
   "outputs": [],
   "source": [
    "import numpy as np"
   ]
  },
  {
   "cell_type": "code",
   "execution_count": null,
   "id": "3e06be7f",
   "metadata": {},
   "outputs": [],
   "source": [
    "# Pick a number between 1 and 100\n",
    "random_number = np.random.randint(1, 101)"
   ]
  },
  {
   "cell_type": "code",
   "execution_count": null,
   "id": "8397d31e",
   "metadata": {
    "scrolled": true
   },
   "outputs": [],
   "source": [
    "print(f\"I selected number: {random_number}\")"
   ]
  },
  {
   "cell_type": "code",
   "execution_count": null,
   "id": "0b9d2cdf",
   "metadata": {},
   "outputs": [],
   "source": []
  }
 ],
 "metadata": {
  "kernelspec": {
   "display_name": "Python 3 (ipykernel)",
   "language": "python",
   "name": "python3"
  },
  "language_info": {
   "codemirror_mode": {
    "name": "ipython",
    "version": 3
   },
   "file_extension": ".py",
   "mimetype": "text/x-python",
   "name": "python",
   "nbconvert_exporter": "python",
   "pygments_lexer": "ipython3",
   "version": "3.8.13"
  }
 },
 "nbformat": 4,
 "nbformat_minor": 5
}
